{
 "cells": [
  {
   "cell_type": "code",
   "execution_count": 1,
   "metadata": {},
   "outputs": [],
   "source": [
    "import os\n",
    "import glob\n",
    "import numpy as np\n",
    "import nibabel as nib\n",
    "import pandas as pd\n",
    "import matplotlib.pyplot as plt\n",
    "from glmsingle.design.make_design_matrix import make_design\n",
    "from glmsingle.glmsingle import GLM_single\n",
    "from glmsingle import glmsingle\n",
    "import time\n",
    "import h5py\n",
    "from pprint import pprint\n",
    "\n",
    "## constants ----\n",
    "\n",
    "stimdur = 1  ## stimulus duration (s)\n",
    "tr = 1.2  ## sec\n",
    "subjlist = \"wave1_unrel\"\n",
    "glmname = \"glmsingle_wave1\"\n",
    "sessions = [\"baseline\", \"proactive\", \"reactive\"]\n",
    "sess = [\"Bas\", \"Pro\", \"Rea\"]\n",
    "variables = [\"target\", \"distractor\", \"congruency\"]\n",
    "runs = [\"run1\", \"run2\"]\n",
    "runencs = [\"1_AP\", \"2_PA\"]\n",
    "\n",
    "proj_path = \"/data/nil-external/ccp/freund/stroop-rsa-pc/\"\n",
    "path_bluearc = \"/data/nil-bluearc/ccp-hcp/DMCC_ALL_BACKUPS/HCP_SUBJECTS_BACKUPS/fMRIPrep_AFNI_ANALYSIS/\"\n",
    "data_path = os.path.join(path_bluearc, '{}', \"INPUT_DATA\", \"Stroop\", \"{}\")  ## subj, session\n",
    "design_path = os.path.join(proj_path, 'out', 'glms', \"{}\", \"wave1\", \"RESULTS\", \"Stroop\", glmname)  ## subj\n",
    "subjs = open(os.path.join(proj_path, \"out\", \"subjlist_\" + subjlist + \".txt\"), \"r\").read().split('\\n')\n"
   ]
  },
  {
   "cell_type": "code",
   "execution_count": 2,
   "metadata": {},
   "outputs": [],
   "source": [
    "## loop over variables\n",
    "## loop over subjects\n",
    "variable = variables[0]\n",
    "subj = subjs[0]\n",
    "\n",
    "## get data and design matrices\n",
    "\n",
    "data = []\n",
    "design = []\n",
    "for session, ses in zip(sessions, sess):\n",
    "    for i, (run, runenc) in enumerate(zip(runs, runencs)):\n",
    "        ## read data:\n",
    "        fname_l = os.path.join(data_path.format(subj, session), \"lpi_scale_tfMRI_Stroop\" + ses + runenc + \"_L.func.gii\")\n",
    "        fname_r = os.path.join(data_path.format(subj, session), \"lpi_scale_tfMRI_Stroop\" + ses + runenc + \"_R.func.gii\")\n",
    "        img_l = np.array(nib.load(fname_l).agg_data())\n",
    "        img_r = np.array(nib.load(fname_r).agg_data())\n",
    "        y = np.concatenate((img_l, img_r), axis = 1).transpose()\n",
    "        y = np.array(y, dtype = object)\n",
    "        #fname = os.path.join(data_path.format(subj, session), \"lpi_scale_blur4_tfMRI_Stroop\" + ses + runenc + \".nii.gz\")\n",
    "        #y = np.asanyarray(nib.load(fname).dataobj)[:, :, 0:4, :]  ## just a few slices\n",
    "        data.append(y)\n",
    "        ## read design:\n",
    "        filename = os.path.join(design_path.format(subj), \"design_\" + variable + \".h5\")\n",
    "        with h5py.File(filename, \"r\") as f:\n",
    "            x = np.array(f[session])[i, :, :].transpose()\n",
    "            x = np.array(x, dtype = object)\n",
    "            design.append(x)"
   ]
  },
  {
   "cell_type": "code",
   "execution_count": 14,
   "metadata": {},
   "outputs": [
    {
     "data": {
      "text/plain": [
       "[(20484, 540),\n",
       " (20484, 540),\n",
       " (20484, 540),\n",
       " (20484, 540),\n",
       " (20484, 590),\n",
       " (20484, 590)]"
      ]
     },
     "execution_count": 14,
     "metadata": {},
     "output_type": "execute_result"
    }
   ],
   "source": [
    "[x.shape for x in data]"
   ]
  },
  {
   "cell_type": "code",
   "execution_count": 16,
   "metadata": {},
   "outputs": [
    {
     "data": {
      "text/plain": [
       "[dtype('O'), dtype('O'), dtype('O'), dtype('O'), dtype('O'), dtype('O')]"
      ]
     },
     "execution_count": 16,
     "metadata": {},
     "output_type": "execute_result"
    }
   ],
   "source": [
    "[x.dtype for x in data]\n",
    "[x.dtype for x in design]"
   ]
  },
  {
   "cell_type": "code",
   "execution_count": 7,
   "metadata": {},
   "outputs": [
    {
     "name": "stdout",
     "output_type": "stream",
     "text": [
      "*** FITTING TYPE-A MODEL (ONOFF) ***\n",
      "\n",
      "fitting model...\n",
      "done.\n",
      "\n",
      "preparing output...\n",
      "done.\n",
      "\n",
      "computing model fits...\n",
      "done.\n",
      "\n",
      "computing R^2...\n",
      "done.\n",
      "\n",
      "computing SNR...\n",
      "done.\n",
      "\n",
      "\n",
      "*** Saving results to /data/nil-external/ccp/freund/stroop-rsa-pc/out/glms/107321/wave1/RESULTS/Stroop/glmsingle_wave1/out/TYPEA_ONOFF.npy. ***\n",
      "\n"
     ]
    },
    {
     "name": "stderr",
     "output_type": "stream",
     "text": [
      "/home/usr/freundm/anaconda3/lib/python3.8/site-packages/glmsingle/ols/glm_estimatemodel.py:872: RuntimeWarning: divide by zero encountered in true_divide\n",
      "  con = 1/np.abs(results['meanvol']) * 100\n",
      "/home/usr/freundm/anaconda3/lib/python3.8/site-packages/glmsingle/ols/glm_estimatemodel.py:875: RuntimeWarning: invalid value encountered in multiply\n",
      "  lambda x: x*con, 0, results['betas'])\n",
      "/home/usr/freundm/anaconda3/lib/python3.8/site-packages/glmsingle/ols/glm_estimatemodel.py:877: RuntimeWarning: invalid value encountered in multiply\n",
      "  lambda x: x*con, 0, results['betasmd'])\n",
      "/home/usr/freundm/anaconda3/lib/python3.8/site-packages/glmsingle/ols/glm_estimatemodel.py:879: RuntimeWarning: invalid value encountered in multiply\n",
      "  lambda x: x*con, 0, results['betasse'])\n",
      "chunks:   0%|          | 0/1 [00:00<?, ?it/s]"
     ]
    },
    {
     "name": "stdout",
     "output_type": "stream",
     "text": [
      "*** Setting brain R2 threshold to 0.757961431901249 ***\n",
      "\n",
      "*** FITTING TYPE-B MODEL (FITHRF) ***\n",
      "\n"
     ]
    },
    {
     "name": "stderr",
     "output_type": "stream",
     "text": [
      "/home/usr/freundm/anaconda3/lib/python3.8/site-packages/glmsingle/ols/glm_estimatemodel.py:872: RuntimeWarning: divide by zero encountered in true_divide\n",
      "  con = 1/np.abs(results['meanvol']) * 100\n",
      "/home/usr/freundm/anaconda3/lib/python3.8/site-packages/glmsingle/ols/glm_estimatemodel.py:875: RuntimeWarning: invalid value encountered in multiply\n",
      "  lambda x: x*con, 0, results['betas'])\n",
      "/home/usr/freundm/anaconda3/lib/python3.8/site-packages/glmsingle/ols/glm_estimatemodel.py:877: RuntimeWarning: invalid value encountered in multiply\n",
      "  lambda x: x*con, 0, results['betasmd'])\n",
      "/home/usr/freundm/anaconda3/lib/python3.8/site-packages/glmsingle/ols/glm_estimatemodel.py:879: RuntimeWarning: invalid value encountered in multiply\n",
      "  lambda x: x*con, 0, results['betasse'])\n",
      "/home/usr/freundm/anaconda3/lib/python3.8/site-packages/glmsingle/ols/glm_estimatemodel.py:872: RuntimeWarning: divide by zero encountered in true_divide\n",
      "  con = 1/np.abs(results['meanvol']) * 100\n",
      "/home/usr/freundm/anaconda3/lib/python3.8/site-packages/glmsingle/ols/glm_estimatemodel.py:875: RuntimeWarning: invalid value encountered in multiply\n",
      "  lambda x: x*con, 0, results['betas'])\n",
      "/home/usr/freundm/anaconda3/lib/python3.8/site-packages/glmsingle/ols/glm_estimatemodel.py:877: RuntimeWarning: invalid value encountered in multiply\n",
      "  lambda x: x*con, 0, results['betasmd'])\n",
      "/home/usr/freundm/anaconda3/lib/python3.8/site-packages/glmsingle/ols/glm_estimatemodel.py:879: RuntimeWarning: invalid value encountered in multiply\n",
      "  lambda x: x*con, 0, results['betasse'])\n",
      "/home/usr/freundm/anaconda3/lib/python3.8/site-packages/glmsingle/ols/glm_estimatemodel.py:872: RuntimeWarning: divide by zero encountered in true_divide\n",
      "  con = 1/np.abs(results['meanvol']) * 100\n",
      "/home/usr/freundm/anaconda3/lib/python3.8/site-packages/glmsingle/ols/glm_estimatemodel.py:875: RuntimeWarning: invalid value encountered in multiply\n",
      "  lambda x: x*con, 0, results['betas'])\n",
      "/home/usr/freundm/anaconda3/lib/python3.8/site-packages/glmsingle/ols/glm_estimatemodel.py:877: RuntimeWarning: invalid value encountered in multiply\n",
      "  lambda x: x*con, 0, results['betasmd'])\n",
      "/home/usr/freundm/anaconda3/lib/python3.8/site-packages/glmsingle/ols/glm_estimatemodel.py:879: RuntimeWarning: invalid value encountered in multiply\n",
      "  lambda x: x*con, 0, results['betasse'])\n",
      "/home/usr/freundm/anaconda3/lib/python3.8/site-packages/glmsingle/ols/glm_estimatemodel.py:872: RuntimeWarning: divide by zero encountered in true_divide\n",
      "  con = 1/np.abs(results['meanvol']) * 100\n",
      "/home/usr/freundm/anaconda3/lib/python3.8/site-packages/glmsingle/ols/glm_estimatemodel.py:875: RuntimeWarning: invalid value encountered in multiply\n",
      "  lambda x: x*con, 0, results['betas'])\n",
      "/home/usr/freundm/anaconda3/lib/python3.8/site-packages/glmsingle/ols/glm_estimatemodel.py:877: RuntimeWarning: invalid value encountered in multiply\n",
      "  lambda x: x*con, 0, results['betasmd'])\n",
      "/home/usr/freundm/anaconda3/lib/python3.8/site-packages/glmsingle/ols/glm_estimatemodel.py:879: RuntimeWarning: invalid value encountered in multiply\n",
      "  lambda x: x*con, 0, results['betasse'])\n",
      "/home/usr/freundm/anaconda3/lib/python3.8/site-packages/glmsingle/ols/glm_estimatemodel.py:872: RuntimeWarning: divide by zero encountered in true_divide\n",
      "  con = 1/np.abs(results['meanvol']) * 100\n",
      "/home/usr/freundm/anaconda3/lib/python3.8/site-packages/glmsingle/ols/glm_estimatemodel.py:875: RuntimeWarning: invalid value encountered in multiply\n",
      "  lambda x: x*con, 0, results['betas'])\n",
      "/home/usr/freundm/anaconda3/lib/python3.8/site-packages/glmsingle/ols/glm_estimatemodel.py:877: RuntimeWarning: invalid value encountered in multiply\n",
      "  lambda x: x*con, 0, results['betasmd'])\n",
      "/home/usr/freundm/anaconda3/lib/python3.8/site-packages/glmsingle/ols/glm_estimatemodel.py:879: RuntimeWarning: invalid value encountered in multiply\n",
      "  lambda x: x*con, 0, results['betasse'])\n",
      "/home/usr/freundm/anaconda3/lib/python3.8/site-packages/glmsingle/ols/glm_estimatemodel.py:872: RuntimeWarning: divide by zero encountered in true_divide\n",
      "  con = 1/np.abs(results['meanvol']) * 100\n",
      "/home/usr/freundm/anaconda3/lib/python3.8/site-packages/glmsingle/ols/glm_estimatemodel.py:875: RuntimeWarning: invalid value encountered in multiply\n",
      "  lambda x: x*con, 0, results['betas'])\n",
      "/home/usr/freundm/anaconda3/lib/python3.8/site-packages/glmsingle/ols/glm_estimatemodel.py:877: RuntimeWarning: invalid value encountered in multiply\n",
      "  lambda x: x*con, 0, results['betasmd'])\n",
      "/home/usr/freundm/anaconda3/lib/python3.8/site-packages/glmsingle/ols/glm_estimatemodel.py:879: RuntimeWarning: invalid value encountered in multiply\n",
      "  lambda x: x*con, 0, results['betasse'])\n",
      "/home/usr/freundm/anaconda3/lib/python3.8/site-packages/glmsingle/ols/glm_estimatemodel.py:872: RuntimeWarning: divide by zero encountered in true_divide\n",
      "  con = 1/np.abs(results['meanvol']) * 100\n",
      "/home/usr/freundm/anaconda3/lib/python3.8/site-packages/glmsingle/ols/glm_estimatemodel.py:875: RuntimeWarning: invalid value encountered in multiply\n",
      "  lambda x: x*con, 0, results['betas'])\n",
      "/home/usr/freundm/anaconda3/lib/python3.8/site-packages/glmsingle/ols/glm_estimatemodel.py:877: RuntimeWarning: invalid value encountered in multiply\n",
      "  lambda x: x*con, 0, results['betasmd'])\n",
      "/home/usr/freundm/anaconda3/lib/python3.8/site-packages/glmsingle/ols/glm_estimatemodel.py:879: RuntimeWarning: invalid value encountered in multiply\n",
      "  lambda x: x*con, 0, results['betasse'])\n",
      "/home/usr/freundm/anaconda3/lib/python3.8/site-packages/glmsingle/ols/glm_estimatemodel.py:872: RuntimeWarning: divide by zero encountered in true_divide\n",
      "  con = 1/np.abs(results['meanvol']) * 100\n",
      "/home/usr/freundm/anaconda3/lib/python3.8/site-packages/glmsingle/ols/glm_estimatemodel.py:875: RuntimeWarning: invalid value encountered in multiply\n",
      "  lambda x: x*con, 0, results['betas'])\n",
      "/home/usr/freundm/anaconda3/lib/python3.8/site-packages/glmsingle/ols/glm_estimatemodel.py:877: RuntimeWarning: invalid value encountered in multiply\n",
      "  lambda x: x*con, 0, results['betasmd'])\n",
      "/home/usr/freundm/anaconda3/lib/python3.8/site-packages/glmsingle/ols/glm_estimatemodel.py:879: RuntimeWarning: invalid value encountered in multiply\n",
      "  lambda x: x*con, 0, results['betasse'])\n",
      "/home/usr/freundm/anaconda3/lib/python3.8/site-packages/glmsingle/ols/glm_estimatemodel.py:872: RuntimeWarning: divide by zero encountered in true_divide\n",
      "  con = 1/np.abs(results['meanvol']) * 100\n",
      "/home/usr/freundm/anaconda3/lib/python3.8/site-packages/glmsingle/ols/glm_estimatemodel.py:875: RuntimeWarning: invalid value encountered in multiply\n",
      "  lambda x: x*con, 0, results['betas'])\n",
      "/home/usr/freundm/anaconda3/lib/python3.8/site-packages/glmsingle/ols/glm_estimatemodel.py:877: RuntimeWarning: invalid value encountered in multiply\n",
      "  lambda x: x*con, 0, results['betasmd'])\n",
      "/home/usr/freundm/anaconda3/lib/python3.8/site-packages/glmsingle/ols/glm_estimatemodel.py:879: RuntimeWarning: invalid value encountered in multiply\n",
      "  lambda x: x*con, 0, results['betasse'])\n",
      "/home/usr/freundm/anaconda3/lib/python3.8/site-packages/glmsingle/ols/glm_estimatemodel.py:872: RuntimeWarning: divide by zero encountered in true_divide\n",
      "  con = 1/np.abs(results['meanvol']) * 100\n",
      "/home/usr/freundm/anaconda3/lib/python3.8/site-packages/glmsingle/ols/glm_estimatemodel.py:875: RuntimeWarning: invalid value encountered in multiply\n",
      "  lambda x: x*con, 0, results['betas'])\n",
      "/home/usr/freundm/anaconda3/lib/python3.8/site-packages/glmsingle/ols/glm_estimatemodel.py:877: RuntimeWarning: invalid value encountered in multiply\n",
      "  lambda x: x*con, 0, results['betasmd'])\n",
      "/home/usr/freundm/anaconda3/lib/python3.8/site-packages/glmsingle/ols/glm_estimatemodel.py:879: RuntimeWarning: invalid value encountered in multiply\n",
      "  lambda x: x*con, 0, results['betasse'])\n",
      "/home/usr/freundm/anaconda3/lib/python3.8/site-packages/glmsingle/ols/glm_estimatemodel.py:872: RuntimeWarning: divide by zero encountered in true_divide\n",
      "  con = 1/np.abs(results['meanvol']) * 100\n",
      "/home/usr/freundm/anaconda3/lib/python3.8/site-packages/glmsingle/ols/glm_estimatemodel.py:875: RuntimeWarning: invalid value encountered in multiply\n",
      "  lambda x: x*con, 0, results['betas'])\n",
      "/home/usr/freundm/anaconda3/lib/python3.8/site-packages/glmsingle/ols/glm_estimatemodel.py:877: RuntimeWarning: invalid value encountered in multiply\n",
      "  lambda x: x*con, 0, results['betasmd'])\n",
      "/home/usr/freundm/anaconda3/lib/python3.8/site-packages/glmsingle/ols/glm_estimatemodel.py:879: RuntimeWarning: invalid value encountered in multiply\n",
      "  lambda x: x*con, 0, results['betasse'])\n",
      "/home/usr/freundm/anaconda3/lib/python3.8/site-packages/glmsingle/ols/glm_estimatemodel.py:872: RuntimeWarning: divide by zero encountered in true_divide\n",
      "  con = 1/np.abs(results['meanvol']) * 100\n",
      "/home/usr/freundm/anaconda3/lib/python3.8/site-packages/glmsingle/ols/glm_estimatemodel.py:875: RuntimeWarning: invalid value encountered in multiply\n",
      "  lambda x: x*con, 0, results['betas'])\n",
      "/home/usr/freundm/anaconda3/lib/python3.8/site-packages/glmsingle/ols/glm_estimatemodel.py:877: RuntimeWarning: invalid value encountered in multiply\n",
      "  lambda x: x*con, 0, results['betasmd'])\n",
      "/home/usr/freundm/anaconda3/lib/python3.8/site-packages/glmsingle/ols/glm_estimatemodel.py:879: RuntimeWarning: invalid value encountered in multiply\n",
      "  lambda x: x*con, 0, results['betasse'])\n",
      "/home/usr/freundm/anaconda3/lib/python3.8/site-packages/glmsingle/ols/glm_estimatemodel.py:872: RuntimeWarning: divide by zero encountered in true_divide\n",
      "  con = 1/np.abs(results['meanvol']) * 100\n",
      "/home/usr/freundm/anaconda3/lib/python3.8/site-packages/glmsingle/ols/glm_estimatemodel.py:875: RuntimeWarning: invalid value encountered in multiply\n",
      "  lambda x: x*con, 0, results['betas'])\n",
      "/home/usr/freundm/anaconda3/lib/python3.8/site-packages/glmsingle/ols/glm_estimatemodel.py:877: RuntimeWarning: invalid value encountered in multiply\n",
      "  lambda x: x*con, 0, results['betasmd'])\n",
      "/home/usr/freundm/anaconda3/lib/python3.8/site-packages/glmsingle/ols/glm_estimatemodel.py:879: RuntimeWarning: invalid value encountered in multiply\n",
      "  lambda x: x*con, 0, results['betasse'])\n",
      "/home/usr/freundm/anaconda3/lib/python3.8/site-packages/glmsingle/ols/glm_estimatemodel.py:872: RuntimeWarning: divide by zero encountered in true_divide\n",
      "  con = 1/np.abs(results['meanvol']) * 100\n",
      "/home/usr/freundm/anaconda3/lib/python3.8/site-packages/glmsingle/ols/glm_estimatemodel.py:875: RuntimeWarning: invalid value encountered in multiply\n",
      "  lambda x: x*con, 0, results['betas'])\n",
      "/home/usr/freundm/anaconda3/lib/python3.8/site-packages/glmsingle/ols/glm_estimatemodel.py:877: RuntimeWarning: invalid value encountered in multiply\n",
      "  lambda x: x*con, 0, results['betasmd'])\n",
      "/home/usr/freundm/anaconda3/lib/python3.8/site-packages/glmsingle/ols/glm_estimatemodel.py:879: RuntimeWarning: invalid value encountered in multiply\n",
      "  lambda x: x*con, 0, results['betasse'])\n",
      "/home/usr/freundm/anaconda3/lib/python3.8/site-packages/glmsingle/ols/glm_estimatemodel.py:872: RuntimeWarning: divide by zero encountered in true_divide\n",
      "  con = 1/np.abs(results['meanvol']) * 100\n",
      "/home/usr/freundm/anaconda3/lib/python3.8/site-packages/glmsingle/ols/glm_estimatemodel.py:875: RuntimeWarning: invalid value encountered in multiply\n",
      "  lambda x: x*con, 0, results['betas'])\n",
      "/home/usr/freundm/anaconda3/lib/python3.8/site-packages/glmsingle/ols/glm_estimatemodel.py:877: RuntimeWarning: invalid value encountered in multiply\n",
      "  lambda x: x*con, 0, results['betasmd'])\n",
      "/home/usr/freundm/anaconda3/lib/python3.8/site-packages/glmsingle/ols/glm_estimatemodel.py:879: RuntimeWarning: invalid value encountered in multiply\n",
      "  lambda x: x*con, 0, results['betasse'])\n",
      "/home/usr/freundm/anaconda3/lib/python3.8/site-packages/glmsingle/ols/glm_estimatemodel.py:872: RuntimeWarning: divide by zero encountered in true_divide\n",
      "  con = 1/np.abs(results['meanvol']) * 100\n",
      "/home/usr/freundm/anaconda3/lib/python3.8/site-packages/glmsingle/ols/glm_estimatemodel.py:875: RuntimeWarning: invalid value encountered in multiply\n",
      "  lambda x: x*con, 0, results['betas'])\n",
      "/home/usr/freundm/anaconda3/lib/python3.8/site-packages/glmsingle/ols/glm_estimatemodel.py:877: RuntimeWarning: invalid value encountered in multiply\n",
      "  lambda x: x*con, 0, results['betasmd'])\n",
      "/home/usr/freundm/anaconda3/lib/python3.8/site-packages/glmsingle/ols/glm_estimatemodel.py:879: RuntimeWarning: invalid value encountered in multiply\n",
      "  lambda x: x*con, 0, results['betasse'])\n",
      "/home/usr/freundm/anaconda3/lib/python3.8/site-packages/glmsingle/ols/glm_estimatemodel.py:872: RuntimeWarning: divide by zero encountered in true_divide\n",
      "  con = 1/np.abs(results['meanvol']) * 100\n",
      "/home/usr/freundm/anaconda3/lib/python3.8/site-packages/glmsingle/ols/glm_estimatemodel.py:875: RuntimeWarning: invalid value encountered in multiply\n",
      "  lambda x: x*con, 0, results['betas'])\n",
      "/home/usr/freundm/anaconda3/lib/python3.8/site-packages/glmsingle/ols/glm_estimatemodel.py:877: RuntimeWarning: invalid value encountered in multiply\n",
      "  lambda x: x*con, 0, results['betasmd'])\n",
      "/home/usr/freundm/anaconda3/lib/python3.8/site-packages/glmsingle/ols/glm_estimatemodel.py:879: RuntimeWarning: invalid value encountered in multiply\n",
      "  lambda x: x*con, 0, results['betasse'])\n",
      "/home/usr/freundm/anaconda3/lib/python3.8/site-packages/glmsingle/ols/glm_estimatemodel.py:872: RuntimeWarning: divide by zero encountered in true_divide\n",
      "  con = 1/np.abs(results['meanvol']) * 100\n",
      "/home/usr/freundm/anaconda3/lib/python3.8/site-packages/glmsingle/ols/glm_estimatemodel.py:875: RuntimeWarning: invalid value encountered in multiply\n",
      "  lambda x: x*con, 0, results['betas'])\n",
      "/home/usr/freundm/anaconda3/lib/python3.8/site-packages/glmsingle/ols/glm_estimatemodel.py:877: RuntimeWarning: invalid value encountered in multiply\n",
      "  lambda x: x*con, 0, results['betasmd'])\n",
      "/home/usr/freundm/anaconda3/lib/python3.8/site-packages/glmsingle/ols/glm_estimatemodel.py:879: RuntimeWarning: invalid value encountered in multiply\n",
      "  lambda x: x*con, 0, results['betasse'])\n",
      "/home/usr/freundm/anaconda3/lib/python3.8/site-packages/glmsingle/ols/glm_estimatemodel.py:872: RuntimeWarning: divide by zero encountered in true_divide\n",
      "  con = 1/np.abs(results['meanvol']) * 100\n",
      "/home/usr/freundm/anaconda3/lib/python3.8/site-packages/glmsingle/ols/glm_estimatemodel.py:875: RuntimeWarning: invalid value encountered in multiply\n",
      "  lambda x: x*con, 0, results['betas'])\n",
      "/home/usr/freundm/anaconda3/lib/python3.8/site-packages/glmsingle/ols/glm_estimatemodel.py:877: RuntimeWarning: invalid value encountered in multiply\n",
      "  lambda x: x*con, 0, results['betasmd'])\n",
      "/home/usr/freundm/anaconda3/lib/python3.8/site-packages/glmsingle/ols/glm_estimatemodel.py:879: RuntimeWarning: invalid value encountered in multiply\n",
      "  lambda x: x*con, 0, results['betasse'])\n",
      "/home/usr/freundm/anaconda3/lib/python3.8/site-packages/glmsingle/ols/glm_estimatemodel.py:872: RuntimeWarning: divide by zero encountered in true_divide\n",
      "  con = 1/np.abs(results['meanvol']) * 100\n",
      "/home/usr/freundm/anaconda3/lib/python3.8/site-packages/glmsingle/ols/glm_estimatemodel.py:875: RuntimeWarning: invalid value encountered in multiply\n",
      "  lambda x: x*con, 0, results['betas'])\n",
      "/home/usr/freundm/anaconda3/lib/python3.8/site-packages/glmsingle/ols/glm_estimatemodel.py:877: RuntimeWarning: invalid value encountered in multiply\n",
      "  lambda x: x*con, 0, results['betasmd'])\n",
      "/home/usr/freundm/anaconda3/lib/python3.8/site-packages/glmsingle/ols/glm_estimatemodel.py:879: RuntimeWarning: invalid value encountered in multiply\n",
      "  lambda x: x*con, 0, results['betasse'])\n",
      "chunks: 100%|██████████| 1/1 [02:09<00:00, 129.30s/it]\n"
     ]
    },
    {
     "name": "stdout",
     "output_type": "stream",
     "text": [
      "\n",
      "*** Saving results to /data/nil-external/ccp/freund/stroop-rsa-pc/out/glms/107321/wave1/RESULTS/Stroop/glmsingle_wave1/out/TYPEB_FITHRF.npy. ***\n",
      "\n",
      "*** DETERMINING GLMDENOISE REGRESSORS ***\n",
      "\n"
     ]
    },
    {
     "name": "stderr",
     "output_type": "stream",
     "text": [
      "chunks:   0%|          | 0/1 [00:00<?, ?it/s]"
     ]
    },
    {
     "name": "stdout",
     "output_type": "stream",
     "text": [
      "*** CROSS-VALIDATING DIFFERENT NUMBERS OF REGRESSORS ***\n",
      "\n"
     ]
    },
    {
     "name": "stderr",
     "output_type": "stream",
     "text": [
      "/home/usr/freundm/anaconda3/lib/python3.8/site-packages/numpy/core/_asarray.py:102: VisibleDeprecationWarning: Creating an ndarray from ragged nested sequences (which is a list-or-tuple of lists-or-tuples-or ndarrays with different lengths or shapes) is deprecated. If you meant to do this, you must specify 'dtype=object' when creating the ndarray.\n",
      "  return array(a, dtype, copy=False, order=order)\n",
      "/home/usr/freundm/anaconda3/lib/python3.8/site-packages/numpy/core/_asarray.py:102: VisibleDeprecationWarning: Creating an ndarray from ragged nested sequences (which is a list-or-tuple of lists-or-tuples-or ndarrays with different lengths or shapes) is deprecated. If you meant to do this, you must specify 'dtype=object' when creating the ndarray.\n",
      "  return array(a, dtype, copy=False, order=order)\n",
      "/home/usr/freundm/anaconda3/lib/python3.8/site-packages/numpy/core/_asarray.py:102: VisibleDeprecationWarning: Creating an ndarray from ragged nested sequences (which is a list-or-tuple of lists-or-tuples-or ndarrays with different lengths or shapes) is deprecated. If you meant to do this, you must specify 'dtype=object' when creating the ndarray.\n",
      "  return array(a, dtype, copy=False, order=order)\n",
      "/home/usr/freundm/anaconda3/lib/python3.8/site-packages/numpy/core/_asarray.py:102: VisibleDeprecationWarning: Creating an ndarray from ragged nested sequences (which is a list-or-tuple of lists-or-tuples-or ndarrays with different lengths or shapes) is deprecated. If you meant to do this, you must specify 'dtype=object' when creating the ndarray.\n",
      "  return array(a, dtype, copy=False, order=order)\n",
      "/home/usr/freundm/anaconda3/lib/python3.8/site-packages/numpy/core/_asarray.py:102: VisibleDeprecationWarning: Creating an ndarray from ragged nested sequences (which is a list-or-tuple of lists-or-tuples-or ndarrays with different lengths or shapes) is deprecated. If you meant to do this, you must specify 'dtype=object' when creating the ndarray.\n",
      "  return array(a, dtype, copy=False, order=order)\n",
      "/home/usr/freundm/anaconda3/lib/python3.8/site-packages/numpy/core/_asarray.py:102: VisibleDeprecationWarning: Creating an ndarray from ragged nested sequences (which is a list-or-tuple of lists-or-tuples-or ndarrays with different lengths or shapes) is deprecated. If you meant to do this, you must specify 'dtype=object' when creating the ndarray.\n",
      "  return array(a, dtype, copy=False, order=order)\n",
      "/home/usr/freundm/anaconda3/lib/python3.8/site-packages/numpy/core/_asarray.py:102: VisibleDeprecationWarning: Creating an ndarray from ragged nested sequences (which is a list-or-tuple of lists-or-tuples-or ndarrays with different lengths or shapes) is deprecated. If you meant to do this, you must specify 'dtype=object' when creating the ndarray.\n",
      "  return array(a, dtype, copy=False, order=order)\n",
      "/home/usr/freundm/anaconda3/lib/python3.8/site-packages/numpy/core/_asarray.py:102: VisibleDeprecationWarning: Creating an ndarray from ragged nested sequences (which is a list-or-tuple of lists-or-tuples-or ndarrays with different lengths or shapes) is deprecated. If you meant to do this, you must specify 'dtype=object' when creating the ndarray.\n",
      "  return array(a, dtype, copy=False, order=order)\n",
      "/home/usr/freundm/anaconda3/lib/python3.8/site-packages/numpy/core/_asarray.py:102: VisibleDeprecationWarning: Creating an ndarray from ragged nested sequences (which is a list-or-tuple of lists-or-tuples-or ndarrays with different lengths or shapes) is deprecated. If you meant to do this, you must specify 'dtype=object' when creating the ndarray.\n",
      "  return array(a, dtype, copy=False, order=order)\n",
      "/home/usr/freundm/anaconda3/lib/python3.8/site-packages/numpy/core/_asarray.py:102: VisibleDeprecationWarning: Creating an ndarray from ragged nested sequences (which is a list-or-tuple of lists-or-tuples-or ndarrays with different lengths or shapes) is deprecated. If you meant to do this, you must specify 'dtype=object' when creating the ndarray.\n",
      "  return array(a, dtype, copy=False, order=order)\n",
      "/home/usr/freundm/anaconda3/lib/python3.8/site-packages/numpy/core/_asarray.py:102: VisibleDeprecationWarning: Creating an ndarray from ragged nested sequences (which is a list-or-tuple of lists-or-tuples-or ndarrays with different lengths or shapes) is deprecated. If you meant to do this, you must specify 'dtype=object' when creating the ndarray.\n",
      "  return array(a, dtype, copy=False, order=order)\n",
      "/home/usr/freundm/anaconda3/lib/python3.8/site-packages/numpy/core/_asarray.py:102: VisibleDeprecationWarning: Creating an ndarray from ragged nested sequences (which is a list-or-tuple of lists-or-tuples-or ndarrays with different lengths or shapes) is deprecated. If you meant to do this, you must specify 'dtype=object' when creating the ndarray.\n",
      "  return array(a, dtype, copy=False, order=order)\n",
      "/home/usr/freundm/anaconda3/lib/python3.8/site-packages/numpy/core/_asarray.py:102: VisibleDeprecationWarning: Creating an ndarray from ragged nested sequences (which is a list-or-tuple of lists-or-tuples-or ndarrays with different lengths or shapes) is deprecated. If you meant to do this, you must specify 'dtype=object' when creating the ndarray.\n",
      "  return array(a, dtype, copy=False, order=order)\n",
      "/home/usr/freundm/anaconda3/lib/python3.8/site-packages/numpy/core/_asarray.py:102: VisibleDeprecationWarning: Creating an ndarray from ragged nested sequences (which is a list-or-tuple of lists-or-tuples-or ndarrays with different lengths or shapes) is deprecated. If you meant to do this, you must specify 'dtype=object' when creating the ndarray.\n",
      "  return array(a, dtype, copy=False, order=order)\n",
      "/home/usr/freundm/anaconda3/lib/python3.8/site-packages/numpy/core/_asarray.py:102: VisibleDeprecationWarning: Creating an ndarray from ragged nested sequences (which is a list-or-tuple of lists-or-tuples-or ndarrays with different lengths or shapes) is deprecated. If you meant to do this, you must specify 'dtype=object' when creating the ndarray.\n",
      "  return array(a, dtype, copy=False, order=order)\n",
      "/home/usr/freundm/anaconda3/lib/python3.8/site-packages/numpy/core/_asarray.py:102: VisibleDeprecationWarning: Creating an ndarray from ragged nested sequences (which is a list-or-tuple of lists-or-tuples-or ndarrays with different lengths or shapes) is deprecated. If you meant to do this, you must specify 'dtype=object' when creating the ndarray.\n",
      "  return array(a, dtype, copy=False, order=order)\n",
      "/home/usr/freundm/anaconda3/lib/python3.8/site-packages/numpy/core/_asarray.py:102: VisibleDeprecationWarning: Creating an ndarray from ragged nested sequences (which is a list-or-tuple of lists-or-tuples-or ndarrays with different lengths or shapes) is deprecated. If you meant to do this, you must specify 'dtype=object' when creating the ndarray.\n",
      "  return array(a, dtype, copy=False, order=order)\n",
      "/home/usr/freundm/anaconda3/lib/python3.8/site-packages/numpy/core/_asarray.py:102: VisibleDeprecationWarning: Creating an ndarray from ragged nested sequences (which is a list-or-tuple of lists-or-tuples-or ndarrays with different lengths or shapes) is deprecated. If you meant to do this, you must specify 'dtype=object' when creating the ndarray.\n",
      "  return array(a, dtype, copy=False, order=order)\n",
      "/home/usr/freundm/anaconda3/lib/python3.8/site-packages/numpy/core/_asarray.py:102: VisibleDeprecationWarning: Creating an ndarray from ragged nested sequences (which is a list-or-tuple of lists-or-tuples-or ndarrays with different lengths or shapes) is deprecated. If you meant to do this, you must specify 'dtype=object' when creating the ndarray.\n",
      "  return array(a, dtype, copy=False, order=order)\n",
      "/home/usr/freundm/anaconda3/lib/python3.8/site-packages/numpy/core/_asarray.py:102: VisibleDeprecationWarning: Creating an ndarray from ragged nested sequences (which is a list-or-tuple of lists-or-tuples-or ndarrays with different lengths or shapes) is deprecated. If you meant to do this, you must specify 'dtype=object' when creating the ndarray.\n",
      "  return array(a, dtype, copy=False, order=order)\n",
      "chunks: 100%|██████████| 1/1 [07:18<00:00, 438.95s/it]\n",
      "chunks:   0%|          | 0/1 [00:00<?, ?it/s]"
     ]
    },
    {
     "name": "stdout",
     "output_type": "stream",
     "text": [
      "\n",
      "*** FITTING TYPE-C MODEL (GLMDENOISE) ***\n",
      "\n"
     ]
    },
    {
     "name": "stderr",
     "output_type": "stream",
     "text": [
      "/home/usr/freundm/anaconda3/lib/python3.8/site-packages/fracridge/fracridge.py:188: RuntimeWarning: invalid value encountered in true_divide\n",
      "  newlen = (newlen / newlen[0])\n",
      "chunks:   0%|          | 0/1 [00:03<?, ?it/s]\n"
     ]
    },
    {
     "ename": "AxisError",
     "evalue": "axis 1 is out of bounds for array of dimension 1",
     "output_type": "error",
     "traceback": [
      "\u001b[0;31m---------------------------------------------------------------------------\u001b[0m",
      "\u001b[0;31mAxisError\u001b[0m                                 Traceback (most recent call last)",
      "\u001b[0;32m<ipython-input-7-2d60c00b64db>\u001b[0m in \u001b[0;36m<module>\u001b[0;34m\u001b[0m\n\u001b[1;32m      1\u001b[0m \u001b[0moutdir\u001b[0m \u001b[0;34m=\u001b[0m \u001b[0mos\u001b[0m\u001b[0;34m.\u001b[0m\u001b[0mpath\u001b[0m\u001b[0;34m.\u001b[0m\u001b[0mjoin\u001b[0m\u001b[0;34m(\u001b[0m\u001b[0mdesign_path\u001b[0m\u001b[0;34m.\u001b[0m\u001b[0mformat\u001b[0m\u001b[0;34m(\u001b[0m\u001b[0msubj\u001b[0m\u001b[0;34m)\u001b[0m\u001b[0;34m,\u001b[0m \u001b[0;34m'out'\u001b[0m\u001b[0;34m)\u001b[0m\u001b[0;34m\u001b[0m\u001b[0;34m\u001b[0m\u001b[0m\n\u001b[0;32m----> 2\u001b[0;31m results = GLM_single().fit(\n\u001b[0m\u001b[1;32m      3\u001b[0m     \u001b[0mdesign\u001b[0m\u001b[0;34m,\u001b[0m\u001b[0;34m\u001b[0m\u001b[0;34m\u001b[0m\u001b[0m\n\u001b[1;32m      4\u001b[0m     \u001b[0mdata\u001b[0m\u001b[0;34m,\u001b[0m\u001b[0;34m\u001b[0m\u001b[0;34m\u001b[0m\u001b[0m\n\u001b[1;32m      5\u001b[0m     \u001b[0mstimdur\u001b[0m\u001b[0;34m,\u001b[0m\u001b[0;34m\u001b[0m\u001b[0;34m\u001b[0m\u001b[0m\n",
      "\u001b[0;32m~/anaconda3/lib/python3.8/site-packages/glmsingle/glmsingle.py\u001b[0m in \u001b[0;36mfit\u001b[0;34m(self, design, data, stimdur, tr, outputdir)\u001b[0m\n\u001b[1;32m   1217\u001b[0m \u001b[0;34m\u001b[0m\u001b[0m\n\u001b[1;32m   1218\u001b[0m                         \u001b[0;31m# fit the entire dataset using the specific frac\u001b[0m\u001b[0;34m\u001b[0m\u001b[0;34m\u001b[0m\u001b[0;34m\u001b[0m\u001b[0m\n\u001b[0;32m-> 1219\u001b[0;31m                         temp, cache = glm_estimatemodel(\n\u001b[0m\u001b[1;32m   1220\u001b[0m                                     \u001b[0mdesignSINGLE\u001b[0m\u001b[0;34m,\u001b[0m\u001b[0;34m\u001b[0m\u001b[0;34m\u001b[0m\u001b[0m\n\u001b[1;32m   1221\u001b[0m                                     \u001b[0mdata0\u001b[0m\u001b[0;34m,\u001b[0m\u001b[0;34m\u001b[0m\u001b[0;34m\u001b[0m\u001b[0m\n",
      "\u001b[0;32m~/anaconda3/lib/python3.8/site-packages/glmsingle/ols/glm_estimatemodel.py\u001b[0m in \u001b[0;36mglm_estimatemodel\u001b[0;34m(design, data, stimdur, tr, hrfmodel, hrfknobs, resampling, opt, cache, mode)\u001b[0m\n\u001b[1;32m    733\u001b[0m             \u001b[0;32melse\u001b[0m\u001b[0;34m:\u001b[0m\u001b[0;34m\u001b[0m\u001b[0;34m\u001b[0m\u001b[0m\n\u001b[1;32m    734\u001b[0m                 \u001b[0;31m# XYZ by boot by n_conditions\u001b[0m\u001b[0;34m\u001b[0m\u001b[0;34m\u001b[0m\u001b[0;34m\u001b[0m\u001b[0m\n\u001b[0;32m--> 735\u001b[0;31m                 \u001b[0mresults\u001b[0m\u001b[0;34m[\u001b[0m\u001b[0;34m'betasmd'\u001b[0m\u001b[0;34m]\u001b[0m \u001b[0;34m=\u001b[0m \u001b[0mnp\u001b[0m\u001b[0;34m.\u001b[0m\u001b[0mmedian\u001b[0m\u001b[0;34m(\u001b[0m\u001b[0mresults\u001b[0m\u001b[0;34m[\u001b[0m\u001b[0;34m'betas'\u001b[0m\u001b[0;34m]\u001b[0m\u001b[0;34m,\u001b[0m \u001b[0;36m1\u001b[0m\u001b[0;34m)\u001b[0m\u001b[0;34m.\u001b[0m\u001b[0mastype\u001b[0m\u001b[0;34m(\u001b[0m\u001b[0mnp\u001b[0m\u001b[0;34m.\u001b[0m\u001b[0mfloat32\u001b[0m\u001b[0;34m)\u001b[0m\u001b[0;34m\u001b[0m\u001b[0;34m\u001b[0m\u001b[0m\n\u001b[0m\u001b[1;32m    736\u001b[0m                 \u001b[0mtemp\u001b[0m \u001b[0;34m=\u001b[0m \u001b[0mnp\u001b[0m\u001b[0;34m.\u001b[0m\u001b[0mpercentile\u001b[0m\u001b[0;34m(\u001b[0m\u001b[0mresults\u001b[0m\u001b[0;34m[\u001b[0m\u001b[0;34m'betas'\u001b[0m\u001b[0;34m]\u001b[0m\u001b[0;34m,\u001b[0m \u001b[0;34m[\u001b[0m\u001b[0;36m16\u001b[0m\u001b[0;34m,\u001b[0m \u001b[0;36m50\u001b[0m\u001b[0;34m,\u001b[0m \u001b[0;36m84\u001b[0m\u001b[0;34m]\u001b[0m\u001b[0;34m,\u001b[0m \u001b[0;36m1\u001b[0m\u001b[0;34m)\u001b[0m\u001b[0;34m\u001b[0m\u001b[0;34m\u001b[0m\u001b[0m\n\u001b[1;32m    737\u001b[0m                 \u001b[0mresults\u001b[0m\u001b[0;34m[\u001b[0m\u001b[0;34m'betasse'\u001b[0m\u001b[0;34m]\u001b[0m \u001b[0;34m=\u001b[0m \u001b[0;34m(\u001b[0m\u001b[0mtemp\u001b[0m\u001b[0;34m[\u001b[0m\u001b[0;36m2\u001b[0m\u001b[0;34m,\u001b[0m \u001b[0;34m:\u001b[0m\u001b[0;34m,\u001b[0m \u001b[0;34m:\u001b[0m\u001b[0;34m]\u001b[0m \u001b[0;34m-\u001b[0m \u001b[0mtemp\u001b[0m\u001b[0;34m[\u001b[0m\u001b[0;36m0\u001b[0m\u001b[0;34m,\u001b[0m \u001b[0;34m:\u001b[0m\u001b[0;34m,\u001b[0m \u001b[0;34m:\u001b[0m\u001b[0;34m]\u001b[0m\u001b[0;34m)\u001b[0m\u001b[0;34m/\u001b[0m\u001b[0;36m2\u001b[0m\u001b[0;34m\u001b[0m\u001b[0;34m\u001b[0m\u001b[0m\n",
      "\u001b[0;32m<__array_function__ internals>\u001b[0m in \u001b[0;36mmedian\u001b[0;34m(*args, **kwargs)\u001b[0m\n",
      "\u001b[0;32m~/anaconda3/lib/python3.8/site-packages/numpy/lib/function_base.py\u001b[0m in \u001b[0;36mmedian\u001b[0;34m(a, axis, out, overwrite_input, keepdims)\u001b[0m\n\u001b[1;32m   3604\u001b[0m \u001b[0;34m\u001b[0m\u001b[0m\n\u001b[1;32m   3605\u001b[0m     \"\"\"\n\u001b[0;32m-> 3606\u001b[0;31m     r, k = _ureduce(a, func=_median, axis=axis, out=out,\n\u001b[0m\u001b[1;32m   3607\u001b[0m                     overwrite_input=overwrite_input)\n\u001b[1;32m   3608\u001b[0m     \u001b[0;32mif\u001b[0m \u001b[0mkeepdims\u001b[0m\u001b[0;34m:\u001b[0m\u001b[0;34m\u001b[0m\u001b[0;34m\u001b[0m\u001b[0m\n",
      "\u001b[0;32m~/anaconda3/lib/python3.8/site-packages/numpy/lib/function_base.py\u001b[0m in \u001b[0;36m_ureduce\u001b[0;34m(a, func, **kwargs)\u001b[0m\n\u001b[1;32m   3493\u001b[0m         \u001b[0mkeepdim\u001b[0m \u001b[0;34m=\u001b[0m \u001b[0mlist\u001b[0m\u001b[0;34m(\u001b[0m\u001b[0ma\u001b[0m\u001b[0;34m.\u001b[0m\u001b[0mshape\u001b[0m\u001b[0;34m)\u001b[0m\u001b[0;34m\u001b[0m\u001b[0;34m\u001b[0m\u001b[0m\n\u001b[1;32m   3494\u001b[0m         \u001b[0mnd\u001b[0m \u001b[0;34m=\u001b[0m \u001b[0ma\u001b[0m\u001b[0;34m.\u001b[0m\u001b[0mndim\u001b[0m\u001b[0;34m\u001b[0m\u001b[0;34m\u001b[0m\u001b[0m\n\u001b[0;32m-> 3495\u001b[0;31m         \u001b[0maxis\u001b[0m \u001b[0;34m=\u001b[0m \u001b[0m_nx\u001b[0m\u001b[0;34m.\u001b[0m\u001b[0mnormalize_axis_tuple\u001b[0m\u001b[0;34m(\u001b[0m\u001b[0maxis\u001b[0m\u001b[0;34m,\u001b[0m \u001b[0mnd\u001b[0m\u001b[0;34m)\u001b[0m\u001b[0;34m\u001b[0m\u001b[0;34m\u001b[0m\u001b[0m\n\u001b[0m\u001b[1;32m   3496\u001b[0m \u001b[0;34m\u001b[0m\u001b[0m\n\u001b[1;32m   3497\u001b[0m         \u001b[0;32mfor\u001b[0m \u001b[0max\u001b[0m \u001b[0;32min\u001b[0m \u001b[0maxis\u001b[0m\u001b[0;34m:\u001b[0m\u001b[0;34m\u001b[0m\u001b[0;34m\u001b[0m\u001b[0m\n",
      "\u001b[0;32m~/anaconda3/lib/python3.8/site-packages/numpy/core/numeric.py\u001b[0m in \u001b[0;36mnormalize_axis_tuple\u001b[0;34m(axis, ndim, argname, allow_duplicate)\u001b[0m\n\u001b[1;32m   1389\u001b[0m             \u001b[0;32mpass\u001b[0m\u001b[0;34m\u001b[0m\u001b[0;34m\u001b[0m\u001b[0m\n\u001b[1;32m   1390\u001b[0m     \u001b[0;31m# Going via an iterator directly is slower than via list comprehension.\u001b[0m\u001b[0;34m\u001b[0m\u001b[0;34m\u001b[0m\u001b[0;34m\u001b[0m\u001b[0m\n\u001b[0;32m-> 1391\u001b[0;31m     \u001b[0maxis\u001b[0m \u001b[0;34m=\u001b[0m \u001b[0mtuple\u001b[0m\u001b[0;34m(\u001b[0m\u001b[0;34m[\u001b[0m\u001b[0mnormalize_axis_index\u001b[0m\u001b[0;34m(\u001b[0m\u001b[0max\u001b[0m\u001b[0;34m,\u001b[0m \u001b[0mndim\u001b[0m\u001b[0;34m,\u001b[0m \u001b[0margname\u001b[0m\u001b[0;34m)\u001b[0m \u001b[0;32mfor\u001b[0m \u001b[0max\u001b[0m \u001b[0;32min\u001b[0m \u001b[0maxis\u001b[0m\u001b[0;34m]\u001b[0m\u001b[0;34m)\u001b[0m\u001b[0;34m\u001b[0m\u001b[0;34m\u001b[0m\u001b[0m\n\u001b[0m\u001b[1;32m   1392\u001b[0m     \u001b[0;32mif\u001b[0m \u001b[0;32mnot\u001b[0m \u001b[0mallow_duplicate\u001b[0m \u001b[0;32mand\u001b[0m \u001b[0mlen\u001b[0m\u001b[0;34m(\u001b[0m\u001b[0mset\u001b[0m\u001b[0;34m(\u001b[0m\u001b[0maxis\u001b[0m\u001b[0;34m)\u001b[0m\u001b[0;34m)\u001b[0m \u001b[0;34m!=\u001b[0m \u001b[0mlen\u001b[0m\u001b[0;34m(\u001b[0m\u001b[0maxis\u001b[0m\u001b[0;34m)\u001b[0m\u001b[0;34m:\u001b[0m\u001b[0;34m\u001b[0m\u001b[0;34m\u001b[0m\u001b[0m\n\u001b[1;32m   1393\u001b[0m         \u001b[0;32mif\u001b[0m \u001b[0margname\u001b[0m\u001b[0;34m:\u001b[0m\u001b[0;34m\u001b[0m\u001b[0;34m\u001b[0m\u001b[0m\n",
      "\u001b[0;32m~/anaconda3/lib/python3.8/site-packages/numpy/core/numeric.py\u001b[0m in \u001b[0;36m<listcomp>\u001b[0;34m(.0)\u001b[0m\n\u001b[1;32m   1389\u001b[0m             \u001b[0;32mpass\u001b[0m\u001b[0;34m\u001b[0m\u001b[0;34m\u001b[0m\u001b[0m\n\u001b[1;32m   1390\u001b[0m     \u001b[0;31m# Going via an iterator directly is slower than via list comprehension.\u001b[0m\u001b[0;34m\u001b[0m\u001b[0;34m\u001b[0m\u001b[0;34m\u001b[0m\u001b[0m\n\u001b[0;32m-> 1391\u001b[0;31m     \u001b[0maxis\u001b[0m \u001b[0;34m=\u001b[0m \u001b[0mtuple\u001b[0m\u001b[0;34m(\u001b[0m\u001b[0;34m[\u001b[0m\u001b[0mnormalize_axis_index\u001b[0m\u001b[0;34m(\u001b[0m\u001b[0max\u001b[0m\u001b[0;34m,\u001b[0m \u001b[0mndim\u001b[0m\u001b[0;34m,\u001b[0m \u001b[0margname\u001b[0m\u001b[0;34m)\u001b[0m \u001b[0;32mfor\u001b[0m \u001b[0max\u001b[0m \u001b[0;32min\u001b[0m \u001b[0maxis\u001b[0m\u001b[0;34m]\u001b[0m\u001b[0;34m)\u001b[0m\u001b[0;34m\u001b[0m\u001b[0;34m\u001b[0m\u001b[0m\n\u001b[0m\u001b[1;32m   1392\u001b[0m     \u001b[0;32mif\u001b[0m \u001b[0;32mnot\u001b[0m \u001b[0mallow_duplicate\u001b[0m \u001b[0;32mand\u001b[0m \u001b[0mlen\u001b[0m\u001b[0;34m(\u001b[0m\u001b[0mset\u001b[0m\u001b[0;34m(\u001b[0m\u001b[0maxis\u001b[0m\u001b[0;34m)\u001b[0m\u001b[0;34m)\u001b[0m \u001b[0;34m!=\u001b[0m \u001b[0mlen\u001b[0m\u001b[0;34m(\u001b[0m\u001b[0maxis\u001b[0m\u001b[0;34m)\u001b[0m\u001b[0;34m:\u001b[0m\u001b[0;34m\u001b[0m\u001b[0;34m\u001b[0m\u001b[0m\n\u001b[1;32m   1393\u001b[0m         \u001b[0;32mif\u001b[0m \u001b[0margname\u001b[0m\u001b[0;34m:\u001b[0m\u001b[0;34m\u001b[0m\u001b[0;34m\u001b[0m\u001b[0m\n",
      "\u001b[0;31mAxisError\u001b[0m: axis 1 is out of bounds for array of dimension 1"
     ]
    }
   ],
   "source": [
    "outdir = os.path.join(design_path.format(subj), 'out')\n",
    "results = GLM_single().fit(\n",
    "    design,\n",
    "    data,\n",
    "    stimdur,\n",
    "    tr,\n",
    "    outputdir = outdir)"
   ]
  },
  {
   "cell_type": "code",
   "execution_count": 4,
   "metadata": {},
   "outputs": [
    {
     "name": "stdout",
     "output_type": "stream",
     "text": [
      "*** FITTING TYPE-A MODEL (ONOFF) ***\n",
      "\n",
      "fitting model...\n",
      "done.\n",
      "\n",
      "preparing output...\n",
      "done.\n",
      "\n",
      "computing model fits...\n",
      "done.\n",
      "\n",
      "computing R^2...\n",
      "done.\n",
      "\n",
      "computing SNR...\n",
      "done.\n",
      "\n",
      "\n",
      "*** Saving results to /data/nil-external/ccp/freund/stroop-rsa-pc/out/glms/107321/wave1/RESULTS/Stroop/glmsingle_wave1/out/TYPEA_ONOFF.npy. ***\n",
      "\n"
     ]
    },
    {
     "name": "stderr",
     "output_type": "stream",
     "text": [
      "/home/usr/freundm/anaconda3/lib/python3.8/site-packages/glmsingle/ols/glm_estimatemodel.py:872: RuntimeWarning: divide by zero encountered in true_divide\n",
      "  con = 1/np.abs(results['meanvol']) * 100\n",
      "/home/usr/freundm/anaconda3/lib/python3.8/site-packages/glmsingle/ols/glm_estimatemodel.py:875: RuntimeWarning: invalid value encountered in multiply\n",
      "  lambda x: x*con, 0, results['betas'])\n",
      "/home/usr/freundm/anaconda3/lib/python3.8/site-packages/glmsingle/ols/glm_estimatemodel.py:877: RuntimeWarning: invalid value encountered in multiply\n",
      "  lambda x: x*con, 0, results['betasmd'])\n",
      "/home/usr/freundm/anaconda3/lib/python3.8/site-packages/glmsingle/ols/glm_estimatemodel.py:879: RuntimeWarning: invalid value encountered in multiply\n",
      "  lambda x: x*con, 0, results['betasse'])\n",
      "chunks:   0%|          | 0/1 [00:00<?, ?it/s]"
     ]
    },
    {
     "name": "stdout",
     "output_type": "stream",
     "text": [
      "*** Setting brain R2 threshold to 0.8114366239280945 ***\n",
      "\n",
      "*** FITTING TYPE-B MODEL (FITHRF) ***\n",
      "\n"
     ]
    },
    {
     "name": "stderr",
     "output_type": "stream",
     "text": [
      "/home/usr/freundm/anaconda3/lib/python3.8/site-packages/glmsingle/ols/glm_estimatemodel.py:872: RuntimeWarning: divide by zero encountered in true_divide\n",
      "  con = 1/np.abs(results['meanvol']) * 100\n",
      "/home/usr/freundm/anaconda3/lib/python3.8/site-packages/glmsingle/ols/glm_estimatemodel.py:875: RuntimeWarning: invalid value encountered in multiply\n",
      "  lambda x: x*con, 0, results['betas'])\n",
      "/home/usr/freundm/anaconda3/lib/python3.8/site-packages/glmsingle/ols/glm_estimatemodel.py:877: RuntimeWarning: invalid value encountered in multiply\n",
      "  lambda x: x*con, 0, results['betasmd'])\n",
      "/home/usr/freundm/anaconda3/lib/python3.8/site-packages/glmsingle/ols/glm_estimatemodel.py:879: RuntimeWarning: invalid value encountered in multiply\n",
      "  lambda x: x*con, 0, results['betasse'])\n",
      "/home/usr/freundm/anaconda3/lib/python3.8/site-packages/glmsingle/ols/glm_estimatemodel.py:872: RuntimeWarning: divide by zero encountered in true_divide\n",
      "  con = 1/np.abs(results['meanvol']) * 100\n",
      "/home/usr/freundm/anaconda3/lib/python3.8/site-packages/glmsingle/ols/glm_estimatemodel.py:875: RuntimeWarning: invalid value encountered in multiply\n",
      "  lambda x: x*con, 0, results['betas'])\n",
      "/home/usr/freundm/anaconda3/lib/python3.8/site-packages/glmsingle/ols/glm_estimatemodel.py:877: RuntimeWarning: invalid value encountered in multiply\n",
      "  lambda x: x*con, 0, results['betasmd'])\n",
      "/home/usr/freundm/anaconda3/lib/python3.8/site-packages/glmsingle/ols/glm_estimatemodel.py:879: RuntimeWarning: invalid value encountered in multiply\n",
      "  lambda x: x*con, 0, results['betasse'])\n",
      "/home/usr/freundm/anaconda3/lib/python3.8/site-packages/glmsingle/ols/glm_estimatemodel.py:872: RuntimeWarning: divide by zero encountered in true_divide\n",
      "  con = 1/np.abs(results['meanvol']) * 100\n",
      "/home/usr/freundm/anaconda3/lib/python3.8/site-packages/glmsingle/ols/glm_estimatemodel.py:875: RuntimeWarning: invalid value encountered in multiply\n",
      "  lambda x: x*con, 0, results['betas'])\n",
      "/home/usr/freundm/anaconda3/lib/python3.8/site-packages/glmsingle/ols/glm_estimatemodel.py:877: RuntimeWarning: invalid value encountered in multiply\n",
      "  lambda x: x*con, 0, results['betasmd'])\n",
      "/home/usr/freundm/anaconda3/lib/python3.8/site-packages/glmsingle/ols/glm_estimatemodel.py:879: RuntimeWarning: invalid value encountered in multiply\n",
      "  lambda x: x*con, 0, results['betasse'])\n",
      "/home/usr/freundm/anaconda3/lib/python3.8/site-packages/glmsingle/ols/glm_estimatemodel.py:872: RuntimeWarning: divide by zero encountered in true_divide\n",
      "  con = 1/np.abs(results['meanvol']) * 100\n",
      "/home/usr/freundm/anaconda3/lib/python3.8/site-packages/glmsingle/ols/glm_estimatemodel.py:875: RuntimeWarning: invalid value encountered in multiply\n",
      "  lambda x: x*con, 0, results['betas'])\n",
      "/home/usr/freundm/anaconda3/lib/python3.8/site-packages/glmsingle/ols/glm_estimatemodel.py:877: RuntimeWarning: invalid value encountered in multiply\n",
      "  lambda x: x*con, 0, results['betasmd'])\n",
      "/home/usr/freundm/anaconda3/lib/python3.8/site-packages/glmsingle/ols/glm_estimatemodel.py:879: RuntimeWarning: invalid value encountered in multiply\n",
      "  lambda x: x*con, 0, results['betasse'])\n",
      "/home/usr/freundm/anaconda3/lib/python3.8/site-packages/glmsingle/ols/glm_estimatemodel.py:872: RuntimeWarning: divide by zero encountered in true_divide\n",
      "  con = 1/np.abs(results['meanvol']) * 100\n",
      "/home/usr/freundm/anaconda3/lib/python3.8/site-packages/glmsingle/ols/glm_estimatemodel.py:875: RuntimeWarning: invalid value encountered in multiply\n",
      "  lambda x: x*con, 0, results['betas'])\n",
      "/home/usr/freundm/anaconda3/lib/python3.8/site-packages/glmsingle/ols/glm_estimatemodel.py:877: RuntimeWarning: invalid value encountered in multiply\n",
      "  lambda x: x*con, 0, results['betasmd'])\n",
      "/home/usr/freundm/anaconda3/lib/python3.8/site-packages/glmsingle/ols/glm_estimatemodel.py:879: RuntimeWarning: invalid value encountered in multiply\n",
      "  lambda x: x*con, 0, results['betasse'])\n",
      "/home/usr/freundm/anaconda3/lib/python3.8/site-packages/glmsingle/ols/glm_estimatemodel.py:872: RuntimeWarning: divide by zero encountered in true_divide\n",
      "  con = 1/np.abs(results['meanvol']) * 100\n",
      "/home/usr/freundm/anaconda3/lib/python3.8/site-packages/glmsingle/ols/glm_estimatemodel.py:875: RuntimeWarning: invalid value encountered in multiply\n",
      "  lambda x: x*con, 0, results['betas'])\n",
      "/home/usr/freundm/anaconda3/lib/python3.8/site-packages/glmsingle/ols/glm_estimatemodel.py:877: RuntimeWarning: invalid value encountered in multiply\n",
      "  lambda x: x*con, 0, results['betasmd'])\n",
      "/home/usr/freundm/anaconda3/lib/python3.8/site-packages/glmsingle/ols/glm_estimatemodel.py:879: RuntimeWarning: invalid value encountered in multiply\n",
      "  lambda x: x*con, 0, results['betasse'])\n",
      "/home/usr/freundm/anaconda3/lib/python3.8/site-packages/glmsingle/ols/glm_estimatemodel.py:872: RuntimeWarning: divide by zero encountered in true_divide\n",
      "  con = 1/np.abs(results['meanvol']) * 100\n",
      "/home/usr/freundm/anaconda3/lib/python3.8/site-packages/glmsingle/ols/glm_estimatemodel.py:875: RuntimeWarning: invalid value encountered in multiply\n",
      "  lambda x: x*con, 0, results['betas'])\n",
      "/home/usr/freundm/anaconda3/lib/python3.8/site-packages/glmsingle/ols/glm_estimatemodel.py:877: RuntimeWarning: invalid value encountered in multiply\n",
      "  lambda x: x*con, 0, results['betasmd'])\n",
      "/home/usr/freundm/anaconda3/lib/python3.8/site-packages/glmsingle/ols/glm_estimatemodel.py:879: RuntimeWarning: invalid value encountered in multiply\n",
      "  lambda x: x*con, 0, results['betasse'])\n",
      "/home/usr/freundm/anaconda3/lib/python3.8/site-packages/glmsingle/ols/glm_estimatemodel.py:872: RuntimeWarning: divide by zero encountered in true_divide\n",
      "  con = 1/np.abs(results['meanvol']) * 100\n",
      "/home/usr/freundm/anaconda3/lib/python3.8/site-packages/glmsingle/ols/glm_estimatemodel.py:875: RuntimeWarning: invalid value encountered in multiply\n",
      "  lambda x: x*con, 0, results['betas'])\n",
      "/home/usr/freundm/anaconda3/lib/python3.8/site-packages/glmsingle/ols/glm_estimatemodel.py:877: RuntimeWarning: invalid value encountered in multiply\n",
      "  lambda x: x*con, 0, results['betasmd'])\n",
      "/home/usr/freundm/anaconda3/lib/python3.8/site-packages/glmsingle/ols/glm_estimatemodel.py:879: RuntimeWarning: invalid value encountered in multiply\n",
      "  lambda x: x*con, 0, results['betasse'])\n",
      "/home/usr/freundm/anaconda3/lib/python3.8/site-packages/glmsingle/ols/glm_estimatemodel.py:872: RuntimeWarning: divide by zero encountered in true_divide\n",
      "  con = 1/np.abs(results['meanvol']) * 100\n",
      "/home/usr/freundm/anaconda3/lib/python3.8/site-packages/glmsingle/ols/glm_estimatemodel.py:875: RuntimeWarning: invalid value encountered in multiply\n",
      "  lambda x: x*con, 0, results['betas'])\n",
      "/home/usr/freundm/anaconda3/lib/python3.8/site-packages/glmsingle/ols/glm_estimatemodel.py:877: RuntimeWarning: invalid value encountered in multiply\n",
      "  lambda x: x*con, 0, results['betasmd'])\n",
      "/home/usr/freundm/anaconda3/lib/python3.8/site-packages/glmsingle/ols/glm_estimatemodel.py:879: RuntimeWarning: invalid value encountered in multiply\n",
      "  lambda x: x*con, 0, results['betasse'])\n",
      "/home/usr/freundm/anaconda3/lib/python3.8/site-packages/glmsingle/ols/glm_estimatemodel.py:872: RuntimeWarning: divide by zero encountered in true_divide\n",
      "  con = 1/np.abs(results['meanvol']) * 100\n",
      "/home/usr/freundm/anaconda3/lib/python3.8/site-packages/glmsingle/ols/glm_estimatemodel.py:875: RuntimeWarning: invalid value encountered in multiply\n",
      "  lambda x: x*con, 0, results['betas'])\n",
      "/home/usr/freundm/anaconda3/lib/python3.8/site-packages/glmsingle/ols/glm_estimatemodel.py:877: RuntimeWarning: invalid value encountered in multiply\n",
      "  lambda x: x*con, 0, results['betasmd'])\n",
      "/home/usr/freundm/anaconda3/lib/python3.8/site-packages/glmsingle/ols/glm_estimatemodel.py:879: RuntimeWarning: invalid value encountered in multiply\n",
      "  lambda x: x*con, 0, results['betasse'])\n",
      "/home/usr/freundm/anaconda3/lib/python3.8/site-packages/glmsingle/ols/glm_estimatemodel.py:872: RuntimeWarning: divide by zero encountered in true_divide\n",
      "  con = 1/np.abs(results['meanvol']) * 100\n",
      "/home/usr/freundm/anaconda3/lib/python3.8/site-packages/glmsingle/ols/glm_estimatemodel.py:875: RuntimeWarning: invalid value encountered in multiply\n",
      "  lambda x: x*con, 0, results['betas'])\n",
      "/home/usr/freundm/anaconda3/lib/python3.8/site-packages/glmsingle/ols/glm_estimatemodel.py:877: RuntimeWarning: invalid value encountered in multiply\n",
      "  lambda x: x*con, 0, results['betasmd'])\n",
      "/home/usr/freundm/anaconda3/lib/python3.8/site-packages/glmsingle/ols/glm_estimatemodel.py:879: RuntimeWarning: invalid value encountered in multiply\n",
      "  lambda x: x*con, 0, results['betasse'])\n",
      "/home/usr/freundm/anaconda3/lib/python3.8/site-packages/glmsingle/ols/glm_estimatemodel.py:872: RuntimeWarning: divide by zero encountered in true_divide\n",
      "  con = 1/np.abs(results['meanvol']) * 100\n",
      "/home/usr/freundm/anaconda3/lib/python3.8/site-packages/glmsingle/ols/glm_estimatemodel.py:875: RuntimeWarning: invalid value encountered in multiply\n",
      "  lambda x: x*con, 0, results['betas'])\n",
      "/home/usr/freundm/anaconda3/lib/python3.8/site-packages/glmsingle/ols/glm_estimatemodel.py:877: RuntimeWarning: invalid value encountered in multiply\n",
      "  lambda x: x*con, 0, results['betasmd'])\n",
      "/home/usr/freundm/anaconda3/lib/python3.8/site-packages/glmsingle/ols/glm_estimatemodel.py:879: RuntimeWarning: invalid value encountered in multiply\n",
      "  lambda x: x*con, 0, results['betasse'])\n",
      "/home/usr/freundm/anaconda3/lib/python3.8/site-packages/glmsingle/ols/glm_estimatemodel.py:872: RuntimeWarning: divide by zero encountered in true_divide\n",
      "  con = 1/np.abs(results['meanvol']) * 100\n",
      "/home/usr/freundm/anaconda3/lib/python3.8/site-packages/glmsingle/ols/glm_estimatemodel.py:875: RuntimeWarning: invalid value encountered in multiply\n",
      "  lambda x: x*con, 0, results['betas'])\n",
      "/home/usr/freundm/anaconda3/lib/python3.8/site-packages/glmsingle/ols/glm_estimatemodel.py:877: RuntimeWarning: invalid value encountered in multiply\n",
      "  lambda x: x*con, 0, results['betasmd'])\n",
      "/home/usr/freundm/anaconda3/lib/python3.8/site-packages/glmsingle/ols/glm_estimatemodel.py:879: RuntimeWarning: invalid value encountered in multiply\n",
      "  lambda x: x*con, 0, results['betasse'])\n",
      "/home/usr/freundm/anaconda3/lib/python3.8/site-packages/glmsingle/ols/glm_estimatemodel.py:872: RuntimeWarning: divide by zero encountered in true_divide\n",
      "  con = 1/np.abs(results['meanvol']) * 100\n",
      "/home/usr/freundm/anaconda3/lib/python3.8/site-packages/glmsingle/ols/glm_estimatemodel.py:875: RuntimeWarning: invalid value encountered in multiply\n",
      "  lambda x: x*con, 0, results['betas'])\n",
      "/home/usr/freundm/anaconda3/lib/python3.8/site-packages/glmsingle/ols/glm_estimatemodel.py:877: RuntimeWarning: invalid value encountered in multiply\n",
      "  lambda x: x*con, 0, results['betasmd'])\n",
      "/home/usr/freundm/anaconda3/lib/python3.8/site-packages/glmsingle/ols/glm_estimatemodel.py:879: RuntimeWarning: invalid value encountered in multiply\n",
      "  lambda x: x*con, 0, results['betasse'])\n",
      "/home/usr/freundm/anaconda3/lib/python3.8/site-packages/glmsingle/ols/glm_estimatemodel.py:872: RuntimeWarning: divide by zero encountered in true_divide\n",
      "  con = 1/np.abs(results['meanvol']) * 100\n",
      "/home/usr/freundm/anaconda3/lib/python3.8/site-packages/glmsingle/ols/glm_estimatemodel.py:875: RuntimeWarning: invalid value encountered in multiply\n",
      "  lambda x: x*con, 0, results['betas'])\n",
      "/home/usr/freundm/anaconda3/lib/python3.8/site-packages/glmsingle/ols/glm_estimatemodel.py:877: RuntimeWarning: invalid value encountered in multiply\n",
      "  lambda x: x*con, 0, results['betasmd'])\n",
      "/home/usr/freundm/anaconda3/lib/python3.8/site-packages/glmsingle/ols/glm_estimatemodel.py:879: RuntimeWarning: invalid value encountered in multiply\n",
      "  lambda x: x*con, 0, results['betasse'])\n",
      "/home/usr/freundm/anaconda3/lib/python3.8/site-packages/glmsingle/ols/glm_estimatemodel.py:872: RuntimeWarning: divide by zero encountered in true_divide\n",
      "  con = 1/np.abs(results['meanvol']) * 100\n",
      "/home/usr/freundm/anaconda3/lib/python3.8/site-packages/glmsingle/ols/glm_estimatemodel.py:875: RuntimeWarning: invalid value encountered in multiply\n",
      "  lambda x: x*con, 0, results['betas'])\n",
      "/home/usr/freundm/anaconda3/lib/python3.8/site-packages/glmsingle/ols/glm_estimatemodel.py:877: RuntimeWarning: invalid value encountered in multiply\n",
      "  lambda x: x*con, 0, results['betasmd'])\n",
      "/home/usr/freundm/anaconda3/lib/python3.8/site-packages/glmsingle/ols/glm_estimatemodel.py:879: RuntimeWarning: invalid value encountered in multiply\n",
      "  lambda x: x*con, 0, results['betasse'])\n",
      "/home/usr/freundm/anaconda3/lib/python3.8/site-packages/glmsingle/ols/glm_estimatemodel.py:872: RuntimeWarning: divide by zero encountered in true_divide\n",
      "  con = 1/np.abs(results['meanvol']) * 100\n",
      "/home/usr/freundm/anaconda3/lib/python3.8/site-packages/glmsingle/ols/glm_estimatemodel.py:875: RuntimeWarning: invalid value encountered in multiply\n",
      "  lambda x: x*con, 0, results['betas'])\n",
      "/home/usr/freundm/anaconda3/lib/python3.8/site-packages/glmsingle/ols/glm_estimatemodel.py:877: RuntimeWarning: invalid value encountered in multiply\n",
      "  lambda x: x*con, 0, results['betasmd'])\n",
      "/home/usr/freundm/anaconda3/lib/python3.8/site-packages/glmsingle/ols/glm_estimatemodel.py:879: RuntimeWarning: invalid value encountered in multiply\n",
      "  lambda x: x*con, 0, results['betasse'])\n",
      "/home/usr/freundm/anaconda3/lib/python3.8/site-packages/glmsingle/ols/glm_estimatemodel.py:872: RuntimeWarning: divide by zero encountered in true_divide\n",
      "  con = 1/np.abs(results['meanvol']) * 100\n",
      "/home/usr/freundm/anaconda3/lib/python3.8/site-packages/glmsingle/ols/glm_estimatemodel.py:875: RuntimeWarning: invalid value encountered in multiply\n",
      "  lambda x: x*con, 0, results['betas'])\n",
      "/home/usr/freundm/anaconda3/lib/python3.8/site-packages/glmsingle/ols/glm_estimatemodel.py:877: RuntimeWarning: invalid value encountered in multiply\n",
      "  lambda x: x*con, 0, results['betasmd'])\n",
      "/home/usr/freundm/anaconda3/lib/python3.8/site-packages/glmsingle/ols/glm_estimatemodel.py:879: RuntimeWarning: invalid value encountered in multiply\n",
      "  lambda x: x*con, 0, results['betasse'])\n",
      "/home/usr/freundm/anaconda3/lib/python3.8/site-packages/glmsingle/ols/glm_estimatemodel.py:872: RuntimeWarning: divide by zero encountered in true_divide\n",
      "  con = 1/np.abs(results['meanvol']) * 100\n",
      "/home/usr/freundm/anaconda3/lib/python3.8/site-packages/glmsingle/ols/glm_estimatemodel.py:875: RuntimeWarning: invalid value encountered in multiply\n",
      "  lambda x: x*con, 0, results['betas'])\n",
      "/home/usr/freundm/anaconda3/lib/python3.8/site-packages/glmsingle/ols/glm_estimatemodel.py:877: RuntimeWarning: invalid value encountered in multiply\n",
      "  lambda x: x*con, 0, results['betasmd'])\n",
      "/home/usr/freundm/anaconda3/lib/python3.8/site-packages/glmsingle/ols/glm_estimatemodel.py:879: RuntimeWarning: invalid value encountered in multiply\n",
      "  lambda x: x*con, 0, results['betasse'])\n",
      "/home/usr/freundm/anaconda3/lib/python3.8/site-packages/glmsingle/ols/glm_estimatemodel.py:872: RuntimeWarning: divide by zero encountered in true_divide\n",
      "  con = 1/np.abs(results['meanvol']) * 100\n",
      "/home/usr/freundm/anaconda3/lib/python3.8/site-packages/glmsingle/ols/glm_estimatemodel.py:875: RuntimeWarning: invalid value encountered in multiply\n",
      "  lambda x: x*con, 0, results['betas'])\n",
      "/home/usr/freundm/anaconda3/lib/python3.8/site-packages/glmsingle/ols/glm_estimatemodel.py:877: RuntimeWarning: invalid value encountered in multiply\n",
      "  lambda x: x*con, 0, results['betasmd'])\n",
      "/home/usr/freundm/anaconda3/lib/python3.8/site-packages/glmsingle/ols/glm_estimatemodel.py:879: RuntimeWarning: invalid value encountered in multiply\n",
      "  lambda x: x*con, 0, results['betasse'])\n",
      "chunks: 100%|██████████| 1/1 [00:38<00:00, 38.88s/it]\n"
     ]
    },
    {
     "name": "stdout",
     "output_type": "stream",
     "text": [
      "\n",
      "*** Saving results to /data/nil-external/ccp/freund/stroop-rsa-pc/out/glms/107321/wave1/RESULTS/Stroop/glmsingle_wave1/out/TYPEB_FITHRF.npy. ***\n",
      "\n",
      "*** DETERMINING GLMDENOISE REGRESSORS ***\n",
      "\n"
     ]
    },
    {
     "name": "stderr",
     "output_type": "stream",
     "text": [
      "chunks:   0%|          | 0/1 [00:00<?, ?it/s]"
     ]
    },
    {
     "name": "stdout",
     "output_type": "stream",
     "text": [
      "*** CROSS-VALIDATING DIFFERENT NUMBERS OF REGRESSORS ***\n",
      "\n"
     ]
    },
    {
     "name": "stderr",
     "output_type": "stream",
     "text": [
      "chunks: 100%|██████████| 1/1 [01:21<00:00, 81.71s/it]\n",
      "chunks:   0%|          | 0/1 [00:00<?, ?it/s]"
     ]
    },
    {
     "name": "stdout",
     "output_type": "stream",
     "text": [
      "\n",
      "*** FITTING TYPE-C MODEL (GLMDENOISE) ***\n",
      "\n"
     ]
    },
    {
     "name": "stderr",
     "output_type": "stream",
     "text": [
      "/home/usr/freundm/anaconda3/lib/python3.8/site-packages/fracridge/fracridge.py:188: RuntimeWarning: invalid value encountered in true_divide\n",
      "  newlen = (newlen / newlen[0])\n",
      "chunks: 100%|██████████| 1/1 [00:09<00:00,  9.13s/it]\n"
     ]
    },
    {
     "name": "stdout",
     "output_type": "stream",
     "text": [
      "\n",
      "*** Saving results to /data/nil-external/ccp/freund/stroop-rsa-pc/out/glms/107321/wave1/RESULTS/Stroop/glmsingle_wave1/out/TYPEC_FITHRF_GLMDENOISE.npy. ***\n",
      "\n"
     ]
    },
    {
     "name": "stderr",
     "output_type": "stream",
     "text": [
      "chunks:   0%|          | 0/1 [00:00<?, ?it/s]"
     ]
    },
    {
     "name": "stdout",
     "output_type": "stream",
     "text": [
      "*** FITTING TYPE-D MODEL (GLMDENOISE_RR) ***\n",
      "\n"
     ]
    },
    {
     "name": "stderr",
     "output_type": "stream",
     "text": [
      "/home/usr/freundm/anaconda3/lib/python3.8/site-packages/fracridge/fracridge.py:188: RuntimeWarning: invalid value encountered in true_divide\n",
      "  newlen = (newlen / newlen[0])\n",
      "/home/usr/freundm/anaconda3/lib/python3.8/site-packages/fracridge/fracridge.py:188: RuntimeWarning: invalid value encountered in true_divide\n",
      "  newlen = (newlen / newlen[0])\n",
      "/home/usr/freundm/anaconda3/lib/python3.8/site-packages/fracridge/fracridge.py:188: RuntimeWarning: invalid value encountered in true_divide\n",
      "  newlen = (newlen / newlen[0])\n",
      "/home/usr/freundm/anaconda3/lib/python3.8/site-packages/fracridge/fracridge.py:188: RuntimeWarning: invalid value encountered in true_divide\n",
      "  newlen = (newlen / newlen[0])\n",
      "/home/usr/freundm/anaconda3/lib/python3.8/site-packages/fracridge/fracridge.py:188: RuntimeWarning: invalid value encountered in true_divide\n",
      "  newlen = (newlen / newlen[0])\n",
      "/home/usr/freundm/anaconda3/lib/python3.8/site-packages/fracridge/fracridge.py:188: RuntimeWarning: invalid value encountered in true_divide\n",
      "  newlen = (newlen / newlen[0])\n",
      "/home/usr/freundm/anaconda3/lib/python3.8/site-packages/fracridge/fracridge.py:188: RuntimeWarning: invalid value encountered in true_divide\n",
      "  newlen = (newlen / newlen[0])\n",
      "/home/usr/freundm/anaconda3/lib/python3.8/site-packages/fracridge/fracridge.py:188: RuntimeWarning: invalid value encountered in true_divide\n",
      "  newlen = (newlen / newlen[0])\n",
      "/home/usr/freundm/anaconda3/lib/python3.8/site-packages/fracridge/fracridge.py:188: RuntimeWarning: invalid value encountered in true_divide\n",
      "  newlen = (newlen / newlen[0])\n",
      "/home/usr/freundm/anaconda3/lib/python3.8/site-packages/fracridge/fracridge.py:188: RuntimeWarning: invalid value encountered in true_divide\n",
      "  newlen = (newlen / newlen[0])\n",
      "/home/usr/freundm/anaconda3/lib/python3.8/site-packages/fracridge/fracridge.py:188: RuntimeWarning: invalid value encountered in true_divide\n",
      "  newlen = (newlen / newlen[0])\n",
      "/home/usr/freundm/anaconda3/lib/python3.8/site-packages/fracridge/fracridge.py:188: RuntimeWarning: invalid value encountered in true_divide\n",
      "  newlen = (newlen / newlen[0])\n",
      "/home/usr/freundm/anaconda3/lib/python3.8/site-packages/fracridge/fracridge.py:188: RuntimeWarning: invalid value encountered in true_divide\n",
      "  newlen = (newlen / newlen[0])\n",
      "/home/usr/freundm/anaconda3/lib/python3.8/site-packages/fracridge/fracridge.py:188: RuntimeWarning: invalid value encountered in true_divide\n",
      "  newlen = (newlen / newlen[0])\n",
      "/home/usr/freundm/anaconda3/lib/python3.8/site-packages/fracridge/fracridge.py:188: RuntimeWarning: invalid value encountered in true_divide\n",
      "  newlen = (newlen / newlen[0])\n",
      "/home/usr/freundm/anaconda3/lib/python3.8/site-packages/fracridge/fracridge.py:188: RuntimeWarning: invalid value encountered in true_divide\n",
      "  newlen = (newlen / newlen[0])\n",
      "/home/usr/freundm/anaconda3/lib/python3.8/site-packages/fracridge/fracridge.py:188: RuntimeWarning: invalid value encountered in true_divide\n",
      "  newlen = (newlen / newlen[0])\n",
      "/home/usr/freundm/anaconda3/lib/python3.8/site-packages/fracridge/fracridge.py:188: RuntimeWarning: invalid value encountered in true_divide\n",
      "  newlen = (newlen / newlen[0])\n",
      "/home/usr/freundm/anaconda3/lib/python3.8/site-packages/fracridge/fracridge.py:188: RuntimeWarning: invalid value encountered in true_divide\n",
      "  newlen = (newlen / newlen[0])\n",
      "/home/usr/freundm/anaconda3/lib/python3.8/site-packages/fracridge/fracridge.py:188: RuntimeWarning: invalid value encountered in true_divide\n",
      "  newlen = (newlen / newlen[0])\n",
      "chunks: 100%|██████████| 1/1 [02:35<00:00, 155.02s/it]\n"
     ]
    },
    {
     "name": "stdout",
     "output_type": "stream",
     "text": [
      "\n",
      "*** Saving results to /data/nil-external/ccp/freund/stroop-rsa-pc/out/glms/107321/wave1/RESULTS/Stroop/glmsingle_wave1/out/TYPED_FITHRF_GLMDENOISE_RR.npy. ***\n",
      "\n",
      "*** All model types done ***\n",
      "\n",
      "*** return model types in results ***\n",
      "\n"
     ]
    }
   ],
   "source": [
    "outdir = os.path.join(design_path.format(subj), 'out')\n",
    "results = GLM_single().fit(\n",
    "    design[0:3],\n",
    "    data[0:3],\n",
    "    stimdur,\n",
    "    tr,\n",
    "    outputdir = outdir)"
   ]
  },
  {
   "cell_type": "code",
   "execution_count": 3,
   "metadata": {},
   "outputs": [
    {
     "data": {
      "text/plain": [
       "Text(0.5, 1.0, 'example slice from run 2')"
      ]
     },
     "execution_count": 3,
     "metadata": {},
     "output_type": "execute_result"
    },
    {
     "data": {
      "image/png": "[encoded data removed]",
      "text/plain": [
       "<Figure size 1440x1440 with 1 Axes>"
      ]
     },
     "metadata": {
      "needs_background": "light"
     },
     "output_type": "display_data"
    },
    {
     "data": {
      "image/png": "[encoded data removed]",
      "text/plain": [
       "<Figure size 1440x432 with 2 Axes>"
      ]
     },
     "metadata": {
      "needs_background": "light"
     },
     "output_type": "display_data"
    }
   ],
   "source": [
    "# plot example design matrix from run 1\n",
    "plt.figure(figsize=(20,20))\n",
    "plt.imshow(design[0].transpose() ,interpolation='none')\n",
    "plt.title('example design matrix from run 1 (transposed)',fontsize=16)\n",
    "plt.xlabel('time (TR)',fontsize=16);\n",
    "plt.ylabel('conditions',fontsize=16)\n",
    "\n",
    "# plot example slice from run 1\n",
    "plt.figure(figsize=(20,6))\n",
    "plt.subplot(121)\n",
    "plt.imshow(data[0].transpose())\n",
    "plt.title('example slice from run 1',fontsize=16)\n",
    "plt.subplot(122)\n",
    "plt.imshow(data[2].transpose())\n",
    "plt.title('example slice from run 2',fontsize=16)\n"
   ]
  },
  {
   "cell_type": "code",
   "execution_count": 6,
   "metadata": {},
   "outputs": [
    {
     "data": {
      "text/plain": [
       "[dtype('O'), dtype('O'), dtype('O'), dtype('O')]"
      ]
     },
     "execution_count": 6,
     "metadata": {},
     "output_type": "execute_result"
    }
   ],
   "source": [
    "import numpy as np\n",
    "n_trs = [100, 100, 100, 150]\n",
    "n_cond = 8\n",
    "\n",
    "design_ragged = []\n",
    "design_balanced = []\n",
    "for i in range(len(n_trs)):\n",
    "    x = np.random.uniform(size = (n_trs[i], n_cond)) > 0.9  ## create random design matrix\n",
    "    x = np.array(x, dtype = object)\n",
    "    design_ragged.append(x)\n",
    "    design_balanced.append(x[0:np.min(n_trs), :])\n",
    "\n",
    "#np.unique(design_balanced)  ## this works\n",
    "#np.unique(design_ragged) ## this fails\n",
    "#np.unique([np.unique(x) for x in design_ragged])  ## this works\n",
    "[x.dtype for x in design_ragged]"
   ]
  },
  {
   "cell_type": "code",
   "execution_count": 4,
   "metadata": {},
   "outputs": [],
   "source": [
    "is_zero = []\n",
    "for i in range(len(data)):\n",
    "    is_zero.append(data[0] == 0)\n",
    "idx = np.sum(np.array(is_zero), 0) == 0"
   ]
  },
  {
   "cell_type": "code",
   "execution_count": 5,
   "metadata": {},
   "outputs": [
    {
     "name": "stdout",
     "output_type": "stream",
     "text": [
      "Python version\n",
      "3.8.8 (default, Apr 13 2021, 19:58:26) \n",
      "[GCC 7.3.0]\n",
      "Version info.\n",
      "sys.version_info(major=3, minor=8, micro=8, releaselevel='final', serial=0)\n"
     ]
    }
   ],
   "source": [
    "import sys\n",
    "print(\"Python version\")\n",
    "print (sys.version)\n",
    "print(\"Version info.\")\n",
    "print (sys.version_info)"
   ]
  }
 ],
 "metadata": {
  "interpreter": {
   "hash": "19af7dc1e77368c50e9f7b570c30cc687b28722f1e5bd567c7045f48edc4872d"
  },
  "kernelspec": {
   "display_name": "Python 3.8.8 64-bit ('base': conda)",
   "language": "python",
   "name": "python3"
  },
  "language_info": {
   "codemirror_mode": {
    "name": "ipython",
    "version": 3
   },
   "file_extension": ".py",
   "mimetype": "text/x-python",
   "name": "python",
   "nbconvert_exporter": "python",
   "pygments_lexer": "ipython3",
   "version": "3.8.8"
  },
  "orig_nbformat": 4
 },
 "nbformat": 4,
 "nbformat_minor": 2
}
